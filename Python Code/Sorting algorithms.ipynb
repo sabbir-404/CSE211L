{
 "cells": [
  {
   "cell_type": "code",
   "execution_count": 7,
   "metadata": {},
   "outputs": [
    {
     "name": "stdout",
     "output_type": "stream",
     "text": [
      "[3, 3, 5, 6, 6, 9, 21, 22]\n"
     ]
    }
   ],
   "source": [
    "def bubble_sort(lst):\n",
    "    if len(lst) > 1:\n",
    "        number_length = len(lst)\n",
    "        # count = 0\n",
    "        for i in range(number_length - 1, 0, -1):\n",
    "            for j in range(i):\n",
    "                if lst[j] > lst[j + 1]:\n",
    "                    lst[j], lst[j + 1] = lst[j + 1], lst[j]\n",
    "                    # # code process\n",
    "                    # count += 1\n",
    "                    # print(count, end = '. ')\n",
    "                    # print(' '.join([str(x) for x in lst]))\n",
    "                    # print()\n",
    "                    # # code process\n",
    "                    \n",
    "    return lst\n",
    "\n",
    "lst = [9,3,6,21,22,3,6,5]\n",
    "print(bubble_sort(lst))"
   ]
  },
  {
   "cell_type": "code",
   "execution_count": 6,
   "metadata": {},
   "outputs": [
    {
     "name": "stdout",
     "output_type": "stream",
     "text": [
      "[3, 3, 5, 6, 6, 9, 21, 22]\n"
     ]
    }
   ],
   "source": [
    "def insertionSort(lst):\n",
    "    for i in range(1, len(lst)):\n",
    "        key = lst[i]\n",
    "        j = i - 1\n",
    "        # code process\n",
    "        # i = 0\n",
    "        # code process\n",
    "        while j >= 0 and lst[j] > key:\n",
    "            lst[j + 1] = lst[j]\n",
    "            # # code process\n",
    "            # i += 1\n",
    "            # print(f\"{i}.\", end = '')\n",
    "            # print(lst)\n",
    "            # print()\n",
    "            # # code process\n",
    "            j -= 1\n",
    "        lst[j + 1] = key\n",
    "    return lst\n",
    "\n",
    "lst = [9,3,6,21,22,3,6,5]\n",
    "\n",
    "\n",
    "print(insertionSort(lst))\n"
   ]
  },
  {
   "cell_type": "code",
   "execution_count": 1,
   "metadata": {},
   "outputs": [
    {
     "name": "stdout",
     "output_type": "stream",
     "text": [
      "[3, 3, 5, 6, 6, 9, 21, 22]\n"
     ]
    }
   ],
   "source": [
    "def mergeSort(arr):\n",
    "\tif len(arr) > 1:\n",
    "\n",
    "\t\tmid = len(arr)//2\n",
    "\t\tL = arr[:mid]\n",
    "\t\tR = arr[mid:]\n",
    "\n",
    "\t\tmergeSort(L)\n",
    "\t\t# # code process\n",
    "\t\t# print(L)\n",
    "\t\t# print()\n",
    "\t\t# # code process\n",
    "\n",
    "\t\tmergeSort(R)\n",
    "\t\t# # code process\n",
    "\t\t# print(R)\n",
    "\t\t# print()\n",
    "\t\t# # code process\n",
    "\n",
    "\t\ti = j = k = 0\n",
    "\n",
    "\t\twhile i < len(L) and j < len(R):\n",
    "\t\t\tif L[i] <= R[j]:\n",
    "\t\t\t\tarr[k] = L[i]\n",
    "\t\t\t\ti += 1\n",
    "\t\t\telse:\n",
    "\t\t\t\tarr[k] = R[j]\n",
    "\t\t\t\tj += 1\n",
    "\t\t\tk += 1\n",
    "\n",
    "\t\twhile i < len(L):\n",
    "\t\t\tarr[k] = L[i]\n",
    "\t\t\ti += 1\n",
    "\t\t\tk += 1\n",
    "\n",
    "\t\twhile j < len(R):\n",
    "\t\t\tarr[k] = R[j]\n",
    "\t\t\tj += 1\n",
    "\t\t\tk += 1\n",
    "\treturn arr\n",
    "\n",
    "lst = [9,3,6,21,22,3,6,5]\n",
    "print(mergeSort(lst))\n"
   ]
  },
  {
   "cell_type": "code",
   "execution_count": 5,
   "metadata": {},
   "outputs": [
    {
     "name": "stdout",
     "output_type": "stream",
     "text": [
      "[3, 5, 8, 9]\n"
     ]
    }
   ],
   "source": [
    "def partition(lst, start, end):\n",
    "    pivot = lst[start]\n",
    "    i = start + 1\n",
    "    for j in range(start + 1, end + 1):\n",
    "        if lst[j] <= pivot:\n",
    "            lst[i], lst[j] = lst[j], lst[i]\n",
    "            i += 1\n",
    "    lst[start], lst[i - 1] = lst[i - 1], lst[start]\n",
    "    return i - 1\n",
    "\n",
    "def quicksort(lst, start, end):\n",
    "    if start < end:\n",
    "        pivot = partition(lst, start, end)\n",
    "        quicksort(lst, start, pivot - 1)\n",
    "        quicksort(lst, pivot + 1, end)\n",
    "\n",
    "arr = [9,3,5,8]\n",
    "quicksort(arr, 0, len(arr) - 1)\n",
    "print(arr)\n"
   ]
  },
  {
   "cell_type": "code",
   "execution_count": 1,
   "metadata": {},
   "outputs": [],
   "source": [
    "def partition(a, start, end):\n",
    "    pivot = a[start]  # Choose the pivot element\n",
    "    low = start + 1   # Index to scan from left to right\n",
    "    high = end        # Index to scan from right to left\n",
    "\n",
    "    while True:\n",
    "        # Move the low index to the right until finding an element larger than the pivot\n",
    "        while low <= high and a[low] <= pivot:\n",
    "            low += 1\n",
    "        # Move the high index to the left until finding an element smaller than the pivot\n",
    "        while low <= high and a[high] > pivot:\n",
    "            high -= 1\n",
    "        # If low and high indices have crossed, then partitioning is done\n",
    "        if low <= high:\n",
    "            # Swap the elements at low and high indices\n",
    "            a[low], a[high] = a[high], a[low]\n",
    "        else:\n",
    "            # If low and high indices have crossed, break out of the loop\n",
    "            break\n",
    "    \n",
    "    # Swap the pivot element with the element at high index\n",
    "    a[start], a[high] = a[high], a[start]\n",
    "    \n",
    "    # Return the pivot index\n",
    "    return high\n",
    "\n",
    "def quick_sort(a, start, end):\n",
    "    if start < end:\n",
    "        # Partition the array and get the pivot index\n",
    "        pivot_index = partition(a, start, end)\n",
    "        \n",
    "        # Recursively sort elements before and after partition\n",
    "        quick_sort(a, start, pivot_index - 1)\n",
    "        quick_sort(a, pivot_index + 1, end)\n"
   ]
  },
  {
   "cell_type": "code",
   "execution_count": 4,
   "metadata": {},
   "outputs": [
    {
     "name": "stdout",
     "output_type": "stream",
     "text": [
      "[2, 3, 3, 4, 5, 9, 25, 69]\n"
     ]
    }
   ],
   "source": [
    "arr = [5, 3, 2, 25, 69, 3, 4, 9]\n",
    "\n",
    "quick_sort(arr, 0, len(arr) - 1)\n",
    "print(arr)\n"
   ]
  },
  {
   "cell_type": "code",
   "execution_count": 5,
   "metadata": {},
   "outputs": [
    {
     "name": "stdout",
     "output_type": "stream",
     "text": [
      "Sorted array is: [2, 24, 45, 66, 75, 90, 170, 802]\n"
     ]
    }
   ],
   "source": [
    "def counting_sort(arr, exp):\n",
    "    n = len(arr)\n",
    "    output = [0] * n\n",
    "    count = [0] * 10\n",
    "    \n",
    "    for i in range(n):\n",
    "        index = arr[i] // exp\n",
    "        count[index % 10] += 1\n",
    "\n",
    "    for i in range(1, 10):\n",
    "        count[i] += count[i - 1]\n",
    "    \n",
    "    i = n - 1\n",
    "    while i >= 0:\n",
    "        index = arr[i] // exp\n",
    "        output[count[index % 10] - 1] = arr[i]\n",
    "        count[index % 10] -= 1\n",
    "        i -= 1\n",
    "    \n",
    "    for i in range(n):\n",
    "        arr[i] = output[i]\n",
    "\n",
    "\n",
    "def radix_sort(arr):\n",
    "    max_value = max(arr)\n",
    "    exp = 1\n",
    "\n",
    "    while max_value // exp > 0:\n",
    "        counting_sort(arr, exp)\n",
    "        exp *= 10\n",
    "\n",
    "\n",
    "# Example usage:\n",
    "arr = [170, 45, 75, 90, 802, 24, 2, 66]\n",
    "radix_sort(arr)\n",
    "print(\"Sorted array is:\", arr)\n"
   ]
  }
 ],
 "metadata": {
  "kernelspec": {
   "display_name": "Python 3",
   "language": "python",
   "name": "python3"
  },
  "language_info": {
   "codemirror_mode": {
    "name": "ipython",
    "version": 3
   },
   "file_extension": ".py",
   "mimetype": "text/x-python",
   "name": "python",
   "nbconvert_exporter": "python",
   "pygments_lexer": "ipython3",
   "version": "3.12.1"
  }
 },
 "nbformat": 4,
 "nbformat_minor": 2
}
