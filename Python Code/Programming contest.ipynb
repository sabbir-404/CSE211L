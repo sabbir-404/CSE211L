{
 "cells": [
  {
   "cell_type": "code",
   "execution_count": null,
   "metadata": {},
   "outputs": [],
   "source": [
    "# A\n",
    "a = int(input())\n",
    "b = int(input())\n",
    "\n",
    "print(a + b)"
   ]
  },
  {
   "cell_type": "code",
   "execution_count": 21,
   "metadata": {},
   "outputs": [
    {
     "name": "stdout",
     "output_type": "stream",
     "text": [
      "5000000015\n"
     ]
    }
   ],
   "source": [
    "def aVeryBigSum(n, lst):\n",
    "    def divide(num):\n",
    "        tmp = len(str(num)) - 1\n",
    "        exponential = '1' + '0' * tmp\n",
    "        return int(exponential)\n",
    "        \n",
    "    def multiply(num):\n",
    "        tmp = len(str(num)) - 2\n",
    "        multiplication = '1' + '0' * tmp\n",
    "        return int(multiplication)\n",
    "    \n",
    "    new_lst = []\n",
    "    for i in range(n):\n",
    "        new_lst.append(lst[i] / divide(lst[i]))\n",
    "    \n",
    "    total_sum = 0\n",
    "    for num in new_lst:\n",
    "        total_sum += num\n",
    "    \n",
    "    return int(total_sum * multiply(total_sum))\n",
    "\n",
    "\n",
    "n = int(input())\n",
    "user_input = input().split()\n",
    "user_input = list(map(int, user_input))\n",
    "\n",
    "print(aVeryBigSum(n, user_input))"
   ]
  },
  {
   "cell_type": "code",
   "execution_count": 22,
   "metadata": {},
   "outputs": [
    {
     "name": "stdout",
     "output_type": "stream",
     "text": [
      "5000000015\n"
     ]
    }
   ],
   "source": [
    "user_input = input().split()\n",
    "user_input = list(map(int, user_input))\n",
    "print(sum(user_input))\n"
   ]
  },
  {
   "cell_type": "code",
   "execution_count": 1,
   "metadata": {},
   "outputs": [
    {
     "name": "stdout",
     "output_type": "stream",
     "text": [
      "-14\n"
     ]
    }
   ],
   "source": [
    "def diagonalDifference(lst):\n",
    "    sum_left = lst[0][0]\n",
    "    for i in range(1, len(lst)):\n",
    "        sum_left += lst[i][i]\n",
    "    \n",
    "    sum_right = lst[0][-1]\n",
    "    for i in range(1, len(lst)):\n",
    "        sum_right += lst[i][-i]\n",
    "    \n",
    "    return (sum_left - sum_right)\n",
    "\n",
    "n = int(input())\n",
    "matrix = []\n",
    "for i in range(n):\n",
    "    user_input = input().split()\n",
    "    user_input = list(map(int, user_input))\n",
    "    matrix.append(user_input)\n",
    "    \n",
    "print(diagonalDifference(matrix))\n",
    "\n"
   ]
  },
  {
   "cell_type": "code",
   "execution_count": 6,
   "metadata": {},
   "outputs": [
    {
     "name": "stdout",
     "output_type": "stream",
     "text": [
      "0.500000\n",
      "0.333333\n",
      "0.166667\n"
     ]
    }
   ],
   "source": [
    "def plusMinus(lst):\n",
    "    plusCount = 0\n",
    "    minusCount = 0\n",
    "    zeroCount = 0\n",
    "    \n",
    "    for num in lst:\n",
    "        if num > 0:\n",
    "            plusCount += 1\n",
    "        elif  num < 0:\n",
    "            minusCount += 1\n",
    "        else:\n",
    "            zeroCount += 1\n",
    "    \n",
    "    lst_size = len(lst)        \n",
    "    plus_ratio = plusCount / lst_size\n",
    "    minus_ratio = minusCount / lst_size\n",
    "    zero_ratio = zeroCount / lst_size\n",
    "    \n",
    "    return ('%.6f' % plus_ratio, '%.6f' % minus_ratio, '%.6f' % zero_ratio)\n",
    "\n",
    "n = int(input())\n",
    "user_input = list(map(int, input().split()))\n",
    "\n",
    "plus, minus, zero = plusMinus(user_input)\n",
    "\n",
    "print(f\"{plus}\\n{minus}\\n{zero}\")"
   ]
  },
  {
   "cell_type": "code",
   "execution_count": 12,
   "metadata": {},
   "outputs": [
    {
     "name": "stdout",
     "output_type": "stream",
     "text": [
      "     #\n",
      "    ##\n",
      "   ###\n",
      "  ####\n",
      " #####\n",
      "######\n"
     ]
    }
   ],
   "source": [
    "def stairCase(n):\n",
    "    for charecter in range(1, n+1):\n",
    "        spaces = n - charecter\n",
    "        print(' ' * spaces + '#' * charecter)\n",
    "\n",
    "stairCase(int(input()))\n"
   ]
  },
  {
   "cell_type": "code",
   "execution_count": 27,
   "metadata": {},
   "outputs": [
    {
     "name": "stdout",
     "output_type": "stream",
     "text": [
      "6 18\n"
     ]
    }
   ],
   "source": [
    "def max_min(lst):\n",
    "    max_num = 0\n",
    "    min_num = 0\n",
    "    for i in range(len(lst) - 1):\n",
    "        max_num += lst[i]\n",
    "    \n",
    "    for j in range(1, len(lst)):\n",
    "        min_num += lst[j]\n",
    "        \n",
    "    if max_num < min_num:\n",
    "        return max_num, min_num\n",
    "    else:\n",
    "        return abs(min_num), abs(max_num)\n",
    "        \n",
    "\n",
    "user_input = list(map(int, input().split()))\n",
    "minimum, maximum = max_min(user_input)\n",
    "print(minimum, maximum)"
   ]
  },
  {
   "cell_type": "code",
   "execution_count": 31,
   "metadata": {},
   "outputs": [
    {
     "name": "stdout",
     "output_type": "stream",
     "text": [
      "3\n"
     ]
    }
   ],
   "source": [
    "def birthday_cake_candles(lst):\n",
    "    lst.sort()\n",
    "    biggest = lst[-1]\n",
    "    count = 0\n",
    "    for num in lst:\n",
    "        if num == biggest:\n",
    "            count += 1\n",
    "    \n",
    "    return  count\n",
    "\n",
    "n = int(input())\n",
    "user_data = list(map(int, input().split()))\n",
    "\n",
    "print(birthday_cake_candles(user_data))\n"
   ]
  },
  {
   "cell_type": "code",
   "execution_count": 53,
   "metadata": {},
   "outputs": [
    {
     "name": "stdout",
     "output_type": "stream",
     "text": [
      "05:07:00\n"
     ]
    }
   ],
   "source": [
    "def time_converter(time):\n",
    "    if time[-2:].lower() == 'am':\n",
    "        if time[:2] == '12':\n",
    "            return '00' + time[2 : 8]\n",
    "        return time[:8]\n",
    "    elif time[-2:].lower() == 'pm':\n",
    "        if time[:2] == '12':\n",
    "            return time[: 8]\n",
    "        converted_time = str(int(time[:2])  + 12) + time[2:8]\n",
    "        return converted_time\n",
    "    else:\n",
    "        return time\n",
    "    \n",
    "print(time_converter(input()))"
   ]
  },
  {
   "cell_type": "code",
   "execution_count": 12,
   "metadata": {},
   "outputs": [
    {
     "name": "stdout",
     "output_type": "stream",
     "text": [
      "33\n"
     ]
    }
   ],
   "source": [
    "def gradingStudents(num):\n",
    "    def next_multiple(num):\n",
    "        tmp = num\n",
    "        while True:\n",
    "            tmp += 1\n",
    "            if tmp % 5 == 0:\n",
    "                break\n",
    "            \n",
    "        return tmp\n",
    "    if num < 38:\n",
    "        return num\n",
    "    elif (next_multiple(num) - num) < 3:\n",
    "        return next_multiple(num)\n",
    "    else:\n",
    "        return num\n",
    "    \n",
    "\n",
    "n = int(input())\n",
    "for i in range(n):\n",
    "    print(gradingStudents(int(input())))"
   ]
  },
  {
   "cell_type": "code",
   "execution_count": 12,
   "metadata": {},
   "outputs": [
    {
     "name": "stdout",
     "output_type": "stream",
     "text": [
      "[[1, 2], [1, 2], [3, 6], [1, 2], [1, 2]]\n"
     ]
    }
   ],
   "source": [
    "def divisibleSumPair(n, num_lst, k):\n",
    "    result = []\n",
    "    for num in num_lst:\n",
    "        for i in range(n):\n",
    "            if (num < num_lst[i]) and (((num +  num_lst[i]) % k) == 0):\n",
    "                result.append([num, num_lst[i]])\n",
    "    \n",
    "    return (result)\n",
    "\n",
    "n, k = input().split()\n",
    "user_input = list(map(int, input().split()))\n",
    "print(divisibleSumPair(int(n), user_input, int(k)))"
   ]
  },
  {
   "cell_type": "code",
   "execution_count": 13,
   "metadata": {},
   "outputs": [
    {
     "name": "stdout",
     "output_type": "stream",
     "text": [
      "5\n"
     ]
    }
   ],
   "source": [
    "def divisibleSumPair(n, num_lst, k):\n",
    "    result = []\n",
    "    for i in range(n):\n",
    "        for j in range(0, n):\n",
    "            if (i < j) and (((num_lst[i] + num_lst[j]) % k) == 0):\n",
    "                result.append([num_lst[i], num_lst[j]])\n",
    "\n",
    "    return len(result)\n",
    "\n",
    "n, k = map(int, input().split())  \n",
    "user_input = list(map(int, input().split()))\n",
    "print(divisibleSumPair(n, user_input, k))"
   ]
  },
  {
   "cell_type": "code",
   "execution_count": 2,
   "metadata": {},
   "outputs": [
    {
     "name": "stdout",
     "output_type": "stream",
     "text": [
      "(3, {1: 0, 2: 1, 3: 2, 4: 1, 5: 1})\n"
     ]
    }
   ],
   "source": [
    "def mirgratory_birds(n, k):\n",
    "    bird_count = {1 : 0, 2 : 0, 3 : 0, 4 : 0, 5 : 0}\n",
    "    birds = [1,2,3,4,5]\n",
    "    for bird in k:\n",
    "        for same_bird in birds:\n",
    "            if bird == same_bird:\n",
    "                bird_count[bird] += 1\n",
    "    max_count = 0\n",
    "    most_common_bird = None\n",
    "    for bird, count in bird_count.items():\n",
    "        if count > max_count:\n",
    "            max_count = count\n",
    "            most_common_bird = bird\n",
    "\n",
    "    return most_common_bird, bird_count\n",
    "\n",
    "n = int(input())\n",
    "user_input = list(map(int, input().split()))\n",
    "\n",
    "print(mirgratory_birds(n, user_input))\n"
   ]
  },
  {
   "cell_type": "code",
   "execution_count": 7,
   "metadata": {},
   "outputs": [
    {
     "name": "stdout",
     "output_type": "stream",
     "text": [
      "5050\n"
     ]
    }
   ],
   "source": [
    "def total_sum(num):\n",
    "    return int(num * (num + 1) / 2)\n",
    "\n",
    "print(total_sum(100))"
   ]
  },
  {
   "cell_type": "code",
   "execution_count": 16,
   "metadata": {},
   "outputs": [
    {
     "name": "stdout",
     "output_type": "stream",
     "text": [
      "13.09.2017\n"
     ]
    }
   ],
   "source": [
    "def isLeap_julian(year):\n",
    "    return (year % 4 == 0)\n",
    "    \n",
    "def isLeap_georgian(year):\n",
    "    return ((year % 400 == 0) or (year % 4 == 0 and year % 100 != 0))\n",
    "\n",
    "def dayOfProgrammer(year):\n",
    "    if year == 1918:\n",
    "        print(\"26.09.1918\")\n",
    "    elif year < 1918:\n",
    "        if isLeap_julian(year):\n",
    "            print(f\"12.09.{year}\")\n",
    "        else:\n",
    "            print(f\"13.09.{year}\")\n",
    "    else:\n",
    "        if isLeap_georgian(year):\n",
    "            print(f\"12.09.{year}\")\n",
    "        else:\n",
    "            print(f\"13.09.{year}\")\n",
    "\n",
    "dayOfProgrammer(int(input()))"
   ]
  },
  {
   "cell_type": "code",
   "execution_count": 21,
   "metadata": {},
   "outputs": [
    {
     "name": "stdout",
     "output_type": "stream",
     "text": [
      "2\n"
     ]
    }
   ],
   "source": [
    "def pageTurn(n, p):\n",
    "    book = [[1]]\n",
    "    for i in range(2, n, 2):\n",
    "        a = i\n",
    "        b = i + 1\n",
    "        book.append([a, b])\n",
    "        if b == n:\n",
    "            break\n",
    "    \n",
    "    count = 0\n",
    "    for page in book:\n",
    "        if p not in page:\n",
    "            count += 1\n",
    "        else:\n",
    "            break\n",
    "            \n",
    "    return count\n",
    "\n",
    "n = int(input())\n",
    "p = int(input())\n",
    "print(pageTurn(n, p))"
   ]
  },
  {
   "cell_type": "code",
   "execution_count": 38,
   "metadata": {},
   "outputs": [
    {
     "name": "stdout",
     "output_type": "stream",
     "text": [
      "o--|__\n",
      "o--|  |__\n",
      "o--|__|  |\n",
      "o--|     |\n",
      "o--|     |__\n",
      "o--|     |\n",
      "o--|__   |\n",
      "o--|  |__|--\n",
      "o--|__|\n",
      "o--|\n"
     ]
    }
   ],
   "source": [
    "def printTree(h):\n",
    "    \n",
    "    def printSubBranchNodeLeft(h):\n",
    "        for i in range(1, h + 1):\n",
    "            if i == 1:\n",
    "                print(\"o--|  |__\")\n",
    "            elif i == 2:\n",
    "                print(\"o--|__|  |\")\n",
    "    \n",
    "    def printSubBranchNodeRight(h):\n",
    "        for i in range(1, h + 1):\n",
    "            if i == 1:\n",
    "                print(\"o--|  |__|\")\n",
    "            elif i == 2:\n",
    "                print(\"o--|__|\")\n",
    "                \n",
    "    def printSubBranchNodeRight_withMainNode(h):\n",
    "        for i in range(1, h + 1):\n",
    "            if i == 1:\n",
    "                print(\"o--|  |__|--\")\n",
    "            elif i == 2:\n",
    "                print(\"o--|__|\")\n",
    "    \n",
    "    if h == 1:\n",
    "        print(\"o--|__\")\n",
    "        print(\"o--|\")\n",
    "    else:\n",
    "        subBranch = 2\n",
    "        nextSubBranch = 6\n",
    "\n",
    "        for i in range(1, (h * 2) + 1):\n",
    "            if i == 1:\n",
    "                print(\"o--|__\")\n",
    "            elif i == subBranch:\n",
    "                subBranch += 4\n",
    "                if i == nextSubBranch:\n",
    "                    nextSubBranch += 4\n",
    "                    print(\"o--|__   |\")\n",
    "                \n",
    "                if i == 2:\n",
    "                    printSubBranchNodeLeft(h // 2)\n",
    "                elif i == 6 and h != 0:\n",
    "                    printSubBranchNodeRight_withMainNode(h // 2)\n",
    "                else:\n",
    "                    printSubBranchNodeRight(h // 2)\n",
    "            elif (i < subBranch) and (i == h):\n",
    "                print(\"o--|     |__\")\n",
    "            elif i < (h * 2) - 1:\n",
    "                print(\"o--|     |\")\n",
    "            elif i == h * 2:\n",
    "                print(\"o--|\")\n",
    "                \n",
    "                \n",
    "\n",
    "                \n",
    "\n",
    "printTree(int(input()))\n"
   ]
  },
  {
   "cell_type": "code",
   "execution_count": 3,
   "metadata": {},
   "outputs": [
    {
     "name": "stdout",
     "output_type": "stream",
     "text": [
      "Case 1: 4\n"
     ]
    }
   ],
   "source": [
    "def remove(lstA, lstB):\n",
    "    St_index = 0\n",
    "    Ed_index = 0\n",
    "    c1 = 0\n",
    "    for i in range(len(lstA)):\n",
    "        for j, elm in enumerate(lstB):\n",
    "            if elm != lstA[i]:\n",
    "                St_index = i\n",
    "                c1 = 1\n",
    "                break\n",
    "        if c1 == 1:\n",
    "            break\n",
    "\n",
    "\n",
    "    for i in range(len(lstB)-1, -1, -1):\n",
    "        if lstB[i] in lstA:\n",
    "            Ed_index = i\n",
    "            break\n",
    "    \n",
    "    if St_index == 0 and Ed_index == 0:\n",
    "        return None\n",
    "    else:\n",
    "        return St_index, Ed_index\n",
    "\n",
    "test_case = int(input())\n",
    "\n",
    "for i in range(test_case):\n",
    "    lst_len = int(input())\n",
    "    a = list(map(int, input().split()))\n",
    "    b = list(map(int, input().split()))\n",
    "    st, ed = remove(a, b)\n",
    "    \n",
    "    if st is not None and ed is not None:\n",
    "        count = ed - st + 1\n",
    "        for _ in range(st, ed + 1):\n",
    "            b.pop(st)  \n",
    "        print(f\"Case {i+1}: {count}\")\n"
   ]
  },
  {
   "cell_type": "code",
   "execution_count": 12,
   "metadata": {},
   "outputs": [
    {
     "name": "stdout",
     "output_type": "stream",
     "text": [
      "0\n"
     ]
    }
   ],
   "source": [
    "def remove(lstA, lstB):\n",
    "    count = 0\n",
    "    for i in range(len(lstA)):\n",
    "        for j in range(len(lstB)):\n",
    "            if lstA[i] == lstB[j]:\n",
    "                break\n",
    "            elif lstA[i] != lstB[j]:\n",
    "                val = lstB[j]\n",
    "                for k in range(j):\n",
    "                    if lstB[k] != val:\n",
    "                        count += 1\n",
    "                        lstB.pop(k)\n",
    "                        break\n",
    "            break\n",
    "                \n",
    "        \n",
    "    return count\n",
    "\n",
    "a = [2, 7, 0, 2, 1]\n",
    "b = [2, 3, 0, 4, 7]\n",
    "print(remove(a, b))\n"
   ]
  },
  {
   "cell_type": "code",
   "execution_count": 22,
   "metadata": {},
   "outputs": [
    {
     "name": "stdout",
     "output_type": "stream",
     "text": [
      "Case 1: 2\n"
     ]
    }
   ],
   "source": [
    "def remove(lstA, lstB):\n",
    "    count = 0\n",
    "    for i, a_val in enumerate(lstA):\n",
    "        b_val = lstB[i]\n",
    "        if a_val != b_val:\n",
    "            count += 1\n",
    "    return count\n",
    "\n",
    "test_case = int(input())\n",
    "\n",
    "for i in range(test_case):\n",
    "    length = input()\n",
    "    a = list(map(int, input().split()))\n",
    "    b = list(map(int, input().split()))\n",
    "    print(f\"Case {i + 1}: {remove(a, b)}\")\n"
   ]
  },
  {
   "cell_type": "code",
   "execution_count": 29,
   "metadata": {},
   "outputs": [
    {
     "name": "stdout",
     "output_type": "stream",
     "text": [
      "January 2000\n",
      "Su Mo Tu We Th Fr Sa\n",
      "                1  2 \n",
      " 3  4  5  6  7  8  9 \n",
      "10 11 12 13 14 15 16 \n",
      "17 18 19 20 21 22 23 \n",
      "24 25 26 27 28 29 30 \n",
      "31                   \n",
      "The day of the week for 1/0/2000 is Tuesday\n"
     ]
    }
   ],
   "source": [
    "import calendar\n",
    "\n",
    "def print_calendar(year, month, day):\n",
    "    # Get the day of the week (0 = Monday, 6 = Sunday)\n",
    "    weekday = calendar.weekday(year, month, day)\n",
    "\n",
    "    # Create a calendar for the specified month\n",
    "    cal = calendar.monthcalendar(year, month)\n",
    "\n",
    "    # Print the calendar header\n",
    "    print(calendar.month_name[month], year)\n",
    "\n",
    "    # Print the days of the week starting from Sunday\n",
    "    print(\"Su Mo Tu We Th Fr Sa\")\n",
    "\n",
    "    # Print the calendar\n",
    "    for week in cal:\n",
    "        for day in week:\n",
    "            if day == 0:\n",
    "                print(\"  \", end=\" \")\n",
    "            else:\n",
    "                print(f\"{day:2}\", end=\" \")\n",
    "        print()\n",
    "\n",
    "    # Print the day of the week for the specified date\n",
    "    print(f\"The day of the week for {month}/{day}/{year} is {calendar.day_name[weekday]}\")\n",
    "\n",
    "# Example usage:\n",
    "year = 2000\n",
    "month = 1\n",
    "day = 25\n",
    "\n",
    "print_calendar(year, month, day)\n"
   ]
  },
  {
   "cell_type": "code",
   "execution_count": 28,
   "metadata": {},
   "outputs": [
    {
     "name": "stdout",
     "output_type": "stream",
     "text": [
      "The day of the week for 2/20/2024 is Tuesday.\n"
     ]
    }
   ],
   "source": [
    "import datetime\n",
    "\n",
    "def get_day_of_week(year, month, day):\n",
    "    # Create a datetime object for the given date\n",
    "    date_obj = datetime.datetime(year, month, day)\n",
    "\n",
    "    # Use strftime to get the day of the week (e.g., \"Monday\")\n",
    "    day_of_week = date_obj.strftime(\"%A\")\n",
    "\n",
    "    return day_of_week\n",
    "\n",
    "# Example usage:\n",
    "year = 2024\n",
    "month = 2\n",
    "day = 20\n",
    "\n",
    "day_of_week = get_day_of_week(year, month, day)\n",
    "print(f\"The day of the week for {month}/{day}/{year} is {day_of_week}.\")\n"
   ]
  },
  {
   "cell_type": "code",
   "execution_count": 30,
   "metadata": {},
   "outputs": [
    {
     "name": "stdout",
     "output_type": "stream",
     "text": [
      "1 2000\n",
      "Su Mo Tu We Th Fr Sa\n",
      "                   1 \n",
      " 2  3  4  5  6  7  8 \n",
      " 9 10 11 12 13 14 15 \n",
      "16 17 18 19 20 21 22 \n",
      "23 24 25 26 27 28 29 \n",
      "30 31 \n",
      "The day of the week for 1/31/2000 is Monday\n"
     ]
    }
   ],
   "source": [
    "# Function to determine if a year is a leap year\n",
    "def is_leap_year(year):\n",
    "    return year % 4 == 0 and (year % 100 != 0 or year % 400 == 0)\n",
    "\n",
    "# Function to get the number of days in a month\n",
    "def days_in_month(year, month):\n",
    "    if month in {1, 3, 5, 7, 8, 10, 12}:\n",
    "        return 31\n",
    "    elif month == 2:\n",
    "        return 29 if is_leap_year(year) else 28\n",
    "    else:\n",
    "        return 30\n",
    "\n",
    "# Function to get the day of the week for a given date\n",
    "def day_of_week(year, month, day):\n",
    "    t = [0, 3, 2, 5, 0, 3, 5, 1, 4, 6, 2, 4]\n",
    "    year -= month < 3\n",
    "    return (year + year // 4 - year // 100 + year // 400 + t[month - 1] + day) % 7\n",
    "\n",
    "# Function to print the calendar\n",
    "def print_calendar(year, month, day):\n",
    "    # Print the month and year header\n",
    "    print(f\"{month} {year}\")\n",
    "\n",
    "    # Print the days of the week starting from Sunday\n",
    "    print(\"Su Mo Tu We Th Fr Sa\")\n",
    "\n",
    "    # Get the day of the week for the first day of the month\n",
    "    first_day_of_week = day_of_week(year, month, 1)\n",
    "\n",
    "    # Determine the number of days in the month\n",
    "    num_days = days_in_month(year, month)\n",
    "\n",
    "    # Print leading spaces for the first week\n",
    "    print(\"   \" * first_day_of_week, end=\"\")\n",
    "\n",
    "    # Print the days of the month\n",
    "    for day in range(1, num_days + 1):\n",
    "        # Print the day with proper padding\n",
    "        print(f\"{day:2}\", end=\" \")\n",
    "\n",
    "        # Print a newline if it's the end of the week\n",
    "        if (day + first_day_of_week) % 7 == 0:\n",
    "            print()\n",
    "\n",
    "    # Print a newline if the last day of the month is not the end of the week\n",
    "    if (num_days + first_day_of_week) % 7 != 0:\n",
    "        print()\n",
    "\n",
    "    # Print the day of the week for the specified date\n",
    "    print(f\"The day of the week for {month}/{day}/{year} is {['Sunday', 'Monday', 'Tuesday', 'Wednesday', 'Thursday', 'Friday', 'Saturday'][day_of_week(year, month, day)]}\")\n",
    "\n",
    "# Example usage:\n",
    "year = 2000\n",
    "month = 1\n",
    "day = 25\n",
    "\n",
    "print_calendar(year, month, day)\n"
   ]
  },
  {
   "cell_type": "code",
   "execution_count": 31,
   "metadata": {},
   "outputs": [
    {
     "name": "stdout",
     "output_type": "stream",
     "text": [
      "1 2000\n",
      "Su Mo Tu We Th Fr Sa\n",
      "                   1 \n",
      " 2  3  4  5  6  7  8 \n",
      " 9 10 11 12 13 14 15 \n",
      "16 17 18 19 20 21 22 \n",
      "23 24 25 26 27 28 29 \n",
      "\n",
      "The day of the week for 1/29/2000 is Saturday\n",
      "30 31\n"
     ]
    }
   ],
   "source": [
    "def print_calendar(year, month, day):\n",
    "    # Print the month and year header\n",
    "    print(f\"{month} {year}\")\n",
    "\n",
    "    # Print the days of the week starting from Sunday\n",
    "    print(\"Su Mo Tu We Th Fr Sa\")\n",
    "\n",
    "    # Get the day of the week for the first day of the month\n",
    "    first_day_of_week = day_of_week(year, month, 1)\n",
    "\n",
    "    # Determine the number of days in the month\n",
    "    num_days = days_in_month(year, month)\n",
    "\n",
    "    # Print leading spaces for the first week\n",
    "    print(\"   \" * first_day_of_week, end=\"\")\n",
    "\n",
    "    # Print the days of the month\n",
    "    for day in range(1, num_days + 1):\n",
    "        # Print the day with proper padding\n",
    "        print(f\"{day:2}\", end=\" \")\n",
    "\n",
    "        # Print a newline if it's the end of the week\n",
    "        if (day + first_day_of_week) % 7 == 0:\n",
    "            print()\n",
    "\n",
    "            # If it's the 5th week, stop printing\n",
    "            if (day + first_day_of_week) // 7 == 5:\n",
    "                break\n",
    "\n",
    "    # Print a newline if the last day of the month is not the end of the week\n",
    "    if (num_days + first_day_of_week) % 7 != 0:\n",
    "        print()\n",
    "\n",
    "    # Print the day of the week for the specified date\n",
    "    print(f\"The day of the week for {month}/{day}/{year} is {['Sunday', 'Monday', 'Tuesday', 'Wednesday', 'Thursday', 'Friday', 'Saturday'][day_of_week(year, month, day)]}\")\n",
    "\n",
    "    # Print the remaining days at the beginning of the next line\n",
    "    if (day + first_day_of_week) // 7 == 5:\n",
    "        print(\" \".join([str(d) for d in range(day + 1, num_days + 1)]))\n",
    "\n",
    "# Example usage:\n",
    "year = 2000\n",
    "month = 1\n",
    "day = 25\n",
    "\n",
    "print_calendar(year, month, day)\n"
   ]
  },
  {
   "cell_type": "code",
   "execution_count": 46,
   "metadata": {},
   "outputs": [
    {
     "name": "stdout",
     "output_type": "stream",
     "text": [
      "|---------------------------|\n",
      "|Sun|Mon|Tue|Wed|Thu|Fri|Sat|\n",
      "|---------------------------|\n",
      "| - | - | - | - | - | - |  1|\n",
      "|  2|  3|  4|  5|  6|  7|  8|\n",
      "|  9| 10| 11| 12| 13| 14| 15|\n",
      "| 16| 17| 18| 19| 20| 21| 22|\n",
      "| 23| 24| 25| 26| 27| 28| 29|\n",
      "| 30| 31| - | - | - | - | - |\n",
      "|---------------------------|\n"
     ]
    }
   ],
   "source": [
    "def print_calendar(year, month, day):\n",
    "    print(\"|---------------------------|\")\n",
    "    print(\"|Sun|Mon|Tue|Wed|Thu|Fri|Sat|\")\n",
    "\n",
    "    print(\"|---------------------------|\")\n",
    "\n",
    "    # Get the day of the week for the first day of the month\n",
    "    first_day_of_week = day_of_week(year, month, 1)\n",
    "\n",
    "    # Determine the number of days in the month\n",
    "    num_days = days_in_month(year, month)\n",
    "\n",
    "    # Counter for tracking the day\n",
    "    current_day = 1\n",
    "\n",
    "    # Print the calendar\n",
    "    for week in range(6):\n",
    "        print(\"|\", end=\"\")\n",
    "        for weekday in range(7):\n",
    "            if week == 0 and weekday < first_day_of_week:\n",
    "                print(\" - |\", end=\"\")\n",
    "            elif current_day <= num_days:\n",
    "                print(f\" {current_day:2}|\", end=\"\")\n",
    "                current_day += 1\n",
    "            else:\n",
    "                print(\" - |\", end=\"\")\n",
    "        print()\n",
    "\n",
    "    print(\"|---------------------------|\")\n",
    "\n",
    "\n",
    "# Example usage:\n",
    "year = 2000\n",
    "month = 1\n",
    "day = 25\n",
    "\n",
    "print_calendar(year, month, day)\n"
   ]
  },
  {
   "cell_type": "code",
   "execution_count": 47,
   "metadata": {},
   "outputs": [
    {
     "name": "stdout",
     "output_type": "stream",
     "text": [
      "1 2000\n",
      "|---------------------------|\n",
      "|Sun|Mon|Tue|Wed|Thu|Fri|Sat|\n",
      "|---------------------------|\n",
      "|31|32|33|34|35| 1| 2|\n",
      "| 3| 4| 5| 6| 7| 8| 9|\n",
      "|10|11|12|13|14|15|16|\n",
      "|17|18|19|20|21|22|23|\n",
      "|24|25|26|27|28|29|30|\n",
      "| - | - | - | - | - | - | - |\n",
      "|---------------------------|\n",
      "The day of the week for 1/25/2000 is Tuesday\n",
      "\n"
     ]
    }
   ],
   "source": [
    "def print_calendar(year, month, day):\n",
    "    import datetime\n",
    "\n",
    "    # Get the first day of the month\n",
    "    first_day = datetime.date(year, month, 1)\n",
    "\n",
    "    # Determine the weekday of the first day\n",
    "    first_weekday = first_day.weekday()\n",
    "\n",
    "    # Determine the number of days in the previous month\n",
    "    if month == 1:\n",
    "        prev_month_days = 31\n",
    "    else:\n",
    "        prev_month_days = (first_day - datetime.timedelta(days=1)).day\n",
    "\n",
    "    # Calculate the number of days to display from the previous month\n",
    "    days_to_display = first_weekday\n",
    "\n",
    "    # Calculate the number of days in the current month\n",
    "    days_in_month = (first_day + datetime.timedelta(days=32)).replace(day=1) - datetime.timedelta(days=1)\n",
    "\n",
    "    # Print the month and year header\n",
    "    print(f\"{month} {year}\")\n",
    "\n",
    "    # Print the top border\n",
    "    print(\"|---------------------------|\")\n",
    "\n",
    "    # Print the days of the week starting from Sunday\n",
    "    print(\"|Sun|Mon|Tue|Wed|Thu|Fri|Sat|\")\n",
    "\n",
    "    # Print the middle border\n",
    "    print(\"|---------------------------|\")\n",
    "\n",
    "    # Counter for tracking the day\n",
    "    current_day = 1\n",
    "\n",
    "    # Print the calendar\n",
    "    for week in range(6):\n",
    "        print(\"|\", end=\"\")\n",
    "        for weekday in range(7):\n",
    "            if days_to_display > 0:\n",
    "                print(f\"{prev_month_days:2}|\", end=\"\")\n",
    "                prev_month_days += 1\n",
    "                days_to_display -= 1\n",
    "            elif current_day <= days_in_month.day:\n",
    "                if week == 5 and current_day > 1:  # Check if it's the 6th week\n",
    "                    print(\" - |\", end=\"\")\n",
    "                else:\n",
    "                    print(f\"{current_day:2}|\", end=\"\")\n",
    "                current_day += 1\n",
    "            else:\n",
    "                print(\" - |\", end=\"\")\n",
    "        print()\n",
    "\n",
    "    # Print the bottom border\n",
    "    print(\"|---------------------------|\")\n",
    "\n",
    "    # Print the day of the week for the specified date\n",
    "    print(f\"The day of the week for {month}/{day}/{year} is {['Sunday', 'Monday', 'Tuesday', 'Wednesday', 'Thursday', 'Friday', 'Saturday'][day_of_week(year, month, day)]}\")\n",
    "\n",
    "    # Print a blank line\n",
    "    print()\n",
    "\n",
    "# Example usage:\n",
    "year = 2000\n",
    "month = 1\n",
    "day = 25\n",
    "\n",
    "print_calendar(year, month, day)\n"
   ]
  },
  {
   "cell_type": "code",
   "execution_count": 5,
   "metadata": {},
   "outputs": [
    {
     "name": "stdout",
     "output_type": "stream",
     "text": [
      "9\n"
     ]
    }
   ],
   "source": [
    "def getMoneySpent(keyboard, drive, budget):\n",
    "    max_price = -1\n",
    "\n",
    "    for k in keyboard:\n",
    "        for d in drive:\n",
    "            total = k + d\n",
    "            if total <= budget and total > max_price:\n",
    "                max_price = total\n",
    "\n",
    "    return max_price\n",
    "\n",
    "budget, n, m = map(int, input().split())\n",
    "keyboard_prices = list(map(int, input().split()))\n",
    "drive_prices = list(map(int, input().split()))\n",
    "\n",
    "print(getMoneySpent(keyboard_prices, drive_prices, budget))\n"
   ]
  },
  {
   "cell_type": "code",
   "execution_count": 12,
   "metadata": {},
   "outputs": [
    {
     "name": "stdout",
     "output_type": "stream",
     "text": [
      "15\n"
     ]
    }
   ],
   "source": [
    "def pickingNumbers(lst):\n",
    "    c = 0\n",
    "    for i in range(len(lst)):\n",
    "        for j in range((i + 1), len(lst)):\n",
    "            if (lst[j] - lst[i]) <= 1:\n",
    "                c += 1\n",
    "    return c + 1\n",
    "            \n",
    "user = list(map(int, input().split()))\n",
    "\n",
    "print(pickingNumbers(user))"
   ]
  },
  {
   "cell_type": "code",
   "execution_count": 15,
   "metadata": {},
   "outputs": [
    {
     "name": "stdout",
     "output_type": "stream",
     "text": [
      "6\n"
     ]
    }
   ],
   "source": [
    "def pickingNumbers(lst):\n",
    "    max_count = 0\n",
    "    for i in range(len(lst)):\n",
    "        count = 0\n",
    "        for j in range(len(lst)):\n",
    "            if abs(lst[j] - lst[i]) <= 1:\n",
    "                count += 1\n",
    "        if count > max_count:\n",
    "            max_count = count\n",
    "    return max_count\n",
    "\n",
    "user_input = list(map(int, input().split()))\n",
    "\n",
    "print(pickingNumbers(user_input))\n"
   ]
  },
  {
   "cell_type": "code",
   "execution_count": 22,
   "metadata": {},
   "outputs": [
    {
     "name": "stdout",
     "output_type": "stream",
     "text": [
      "[2, 1, 3]\n"
     ]
    }
   ],
   "source": [
    "def pickingNumbers(lst):\n",
    "    r = []\n",
    "    def isGreater(target, lst):\n",
    "        result = False\n",
    "        for num in lst:\n",
    "            if abs(target - num) <= 1:\n",
    "                result =  True\n",
    "            \n",
    "        return result\n",
    "    \n",
    "    for i in range(len(lst)):\n",
    "        for j in range(i+1, len(lst)):\n",
    "            if lst[j] - lst[i] <= 1 and lst[j] not in r:\n",
    "                if len(r) != 0:\n",
    "                    if isGreater(lst[j], r):\n",
    "                        r.append(lst[j])\n",
    "                else:\n",
    "                    r.append(lst[j])\n",
    "    \n",
    "    return r\n",
    "\n",
    "user_input = list(map(int, input().split()))\n",
    "\n",
    "print(pickingNumbers(user_input))"
   ]
  },
  {
   "cell_type": "code",
   "execution_count": 26,
   "metadata": {},
   "outputs": [
    {
     "name": "stdout",
     "output_type": "stream",
     "text": [
      "5\n"
     ]
    }
   ],
   "source": [
    "x, y = map(int, input().split()) \n",
    "lst = list(map(int,input().split()))\n",
    "lst.sort()\n",
    "\n",
    "a,b = ((sum(lst[0:-1])),sum(lst[1:]))\n",
    "\n",
    "print(abs(b - a))\n"
   ]
  },
  {
   "cell_type": "code",
   "execution_count": 10,
   "metadata": {},
   "outputs": [
    {
     "name": "stdout",
     "output_type": "stream",
     "text": [
      "False\n"
     ]
    }
   ],
   "source": [
    "def binarySearch(lst, target):\n",
    "    if len(lst) == 0:\n",
    "        return False\n",
    "    \n",
    "    mid = len(lst) // 2\n",
    "    \n",
    "    if target == lst[mid]:\n",
    "        return True\n",
    "    elif target > lst[mid]:\n",
    "        return binarySearch(lst[mid + 1:], target)\n",
    "    else:\n",
    "        return binarySearch(lst[:mid], target)\n",
    "\n",
    "lst = [1, 8, 16, 24, 29, 35, 41, 46, 51, 63, 68, 72, 99]\n",
    "print(binarySearch(lst, 25))\n"
   ]
  },
  {
   "cell_type": "code",
   "execution_count": 26,
   "metadata": {},
   "outputs": [
    {
     "name": "stdout",
     "output_type": "stream",
     "text": [
      "ex\n",
      "False\n"
     ]
    }
   ],
   "source": [
    "def isPalindrome(text):\n",
    "    if  len(text) <= 1:\n",
    "        return True\n",
    "    elif text[0] == text[-1]:\n",
    "        print(text[1:-1])\n",
    "        return isPalindrome(text[1:-1])\n",
    "    else:\n",
    "        return False\n",
    "    \n",
    "print(isPalindrome('text'))"
   ]
  },
  {
   "cell_type": "code",
   "execution_count": 1,
   "metadata": {},
   "outputs": [
    {
     "name": "stdout",
     "output_type": "stream",
     "text": [
      "5\n",
      "4\n",
      "3\n",
      "2\n",
      "15\n"
     ]
    }
   ],
   "source": [
    "def sum(n):\n",
    "    if n == 1:\n",
    "        return n\n",
    "    else:\n",
    "        print(n)\n",
    "        return  n + sum(n-1)\n",
    "    \n",
    "print(sum(5))"
   ]
  },
  {
   "cell_type": "code",
   "execution_count": 10,
   "metadata": {},
   "outputs": [
    {
     "name": "stdout",
     "output_type": "stream",
     "text": [
      "2\n"
     ]
    }
   ],
   "source": [
    "def pickingNumbers(num):\n",
    "    r = len(num)\n",
    "    count = 0\n",
    "    while r > 0:\n",
    "        r -= 1\n",
    "        if abs(num[r] - num[r - 1]) <= 1:\n",
    "            count += 1\n",
    "    return count\n",
    "n = int(input())\n",
    "user = list(map(int, input().split()))\n",
    "print(pickingNumbers(user))\n"
   ]
  },
  {
   "cell_type": "code",
   "execution_count": 11,
   "metadata": {},
   "outputs": [
    {
     "name": "stdout",
     "output_type": "stream",
     "text": [
      "3\n"
     ]
    }
   ],
   "source": [
    "def pickingNumbers(num):\n",
    "    count = 0\n",
    "    num.sort()\n",
    "    i = 0\n",
    "    while i < len(num):\n",
    "        j = i + 1\n",
    "        while j < len(num) and abs(num[j] - num[i]) <= 1:\n",
    "            j += 1\n",
    "        count = max(count, j - i) \n",
    "        i = j\n",
    "    return count\n",
    "\n",
    "n = int(input())\n",
    "user = list(map(int, input().split()))\n",
    "print(pickingNumbers(user))\n"
   ]
  },
  {
   "cell_type": "code",
   "execution_count": 15,
   "metadata": {},
   "outputs": [
    {
     "name": "stdout",
     "output_type": "stream",
     "text": [
      "7489\n"
     ]
    }
   ],
   "source": [
    "def hurdleRace(lst, k):\n",
    "    if k > max(lst):\n",
    "        return 0\n",
    "    else:\n",
    "        return max(lst) - k\n",
    "\n",
    "n, k = input().split()\n",
    "user = list(map(int, input().split()))\n",
    "\n",
    "print(hurdleRace(user, int(k)))"
   ]
  },
  {
   "cell_type": "code",
   "execution_count": 54,
   "metadata": {},
   "outputs": [
    {
     "name": "stdout",
     "output_type": "stream",
     "text": [
      "15\n"
     ]
    }
   ],
   "source": [
    "def utopianTree(n):\n",
    "    h = 0\n",
    "    for i in range(n):\n",
    "        if (i + 1) % 2 == 0:\n",
    "            h *= 2\n",
    "        else:\n",
    "            h += 1\n",
    "    return h\n",
    "\n",
    "# Input processing and function call\n",
    "for _ in range(int(input())):\n",
    "    user = int(input())\n",
    "    print(utopianTree(user + 1))\n"
   ]
  },
  {
   "cell_type": "code",
   "execution_count": 57,
   "metadata": {},
   "outputs": [
    {
     "ename": "ValueError",
     "evalue": "invalid literal for int() with base 10: ''",
     "output_type": "error",
     "traceback": [
      "\u001b[1;31m---------------------------------------------------------------------------\u001b[0m",
      "\u001b[1;31mValueError\u001b[0m                                Traceback (most recent call last)",
      "Cell \u001b[1;32mIn[57], line 12\u001b[0m\n\u001b[0;32m      9\u001b[0m     \u001b[38;5;28;01melse\u001b[39;00m:\n\u001b[0;32m     10\u001b[0m         \u001b[38;5;28;01mreturn\u001b[39;00m \u001b[38;5;124m\"\u001b[39m\u001b[38;5;124mYES\u001b[39m\u001b[38;5;124m\"\u001b[39m\n\u001b[1;32m---> 12\u001b[0m \u001b[38;5;28;01mfor\u001b[39;00m i \u001b[38;5;129;01min\u001b[39;00m \u001b[38;5;28mrange\u001b[39m(\u001b[38;5;28;43mint\u001b[39;49m\u001b[43m(\u001b[49m\u001b[38;5;28;43minput\u001b[39;49m\u001b[43m(\u001b[49m\u001b[43m)\u001b[49m\u001b[43m)\u001b[49m):\n\u001b[0;32m     13\u001b[0m     n, target \u001b[38;5;241m=\u001b[39m \u001b[38;5;28minput\u001b[39m()\u001b[38;5;241m.\u001b[39msplit()\n\u001b[0;32m     14\u001b[0m     user_lst \u001b[38;5;241m=\u001b[39m \u001b[38;5;28mmap\u001b[39m(\u001b[38;5;28mint\u001b[39m, \u001b[38;5;28minput\u001b[39m()\u001b[38;5;241m.\u001b[39msplit())\n",
      "\u001b[1;31mValueError\u001b[0m: invalid literal for int() with base 10: ''"
     ]
    }
   ],
   "source": [
    "def angryProfessor(lst, target):\n",
    "    c = 0\n",
    "    for time in lst:\n",
    "        if time <= 0:\n",
    "            c += 1\n",
    "    \n",
    "    if c >= target:\n",
    "        return \"NO\"\n",
    "    else:\n",
    "        return \"YES\"\n",
    "    \n",
    "for i in range(int(input())):\n",
    "    n, target = input().split()\n",
    "    user_lst = map(int, input().split())\n",
    "    print(angryProfessor(user_lst, int(target)))"
   ]
  },
  {
   "cell_type": "code",
   "execution_count": 8,
   "metadata": {},
   "outputs": [],
   "source": [
    "class Node:\n",
    "    def __init__(self, data):\n",
    "        self.data = data\n",
    "        self.next = None\n",
    "\n",
    "class Stack:\n",
    "    def __init__(self):\n",
    "        self.top = None\n",
    "\n",
    "    def push(self, lst):\n",
    "        words = lst.split()\n",
    "        for word in words:\n",
    "            new_node = Node(word)\n",
    "            new_node.next = self.top\n",
    "            self.top = new_node\n",
    "    \n",
    "    def undo(self):\n",
    "        data = self.top.data\n",
    "        self.top = self.top.next\n",
    "\n",
    "\n",
    "    def display(self):\n",
    "            current = self.top\n",
    "            while current:\n",
    "                print(current.data, end=\" -> \")\n",
    "                current = current.next\n",
    "            print(\"None\")\n"
   ]
  },
  {
   "cell_type": "code",
   "execution_count": 7,
   "metadata": {},
   "outputs": [
    {
     "ename": "IndexError",
     "evalue": "list index out of range",
     "output_type": "error",
     "traceback": [
      "\u001b[1;31m---------------------------------------------------------------------------\u001b[0m",
      "\u001b[1;31mIndexError\u001b[0m                                Traceback (most recent call last)",
      "Cell \u001b[1;32mIn[7], line 47\u001b[0m\n\u001b[0;32m     39\u001b[0m a \u001b[38;5;241m=\u001b[39m [[\u001b[38;5;241m1\u001b[39m, \u001b[38;5;241m2\u001b[39m, \u001b[38;5;241m3\u001b[39m],\n\u001b[0;32m     40\u001b[0m      [\u001b[38;5;241m4\u001b[39m, \u001b[38;5;241m5\u001b[39m, \u001b[38;5;241m6\u001b[39m],\n\u001b[0;32m     41\u001b[0m      [\u001b[38;5;241m7\u001b[39m, \u001b[38;5;241m8\u001b[39m, \u001b[38;5;241m9\u001b[39m]]\n\u001b[0;32m     43\u001b[0m b \u001b[38;5;241m=\u001b[39m [[\u001b[38;5;241m9\u001b[39m, \u001b[38;5;241m8\u001b[39m, \u001b[38;5;241m7\u001b[39m],\n\u001b[0;32m     44\u001b[0m      [\u001b[38;5;241m6\u001b[39m, \u001b[38;5;241m5\u001b[39m, \u001b[38;5;241m4\u001b[39m],\n\u001b[0;32m     45\u001b[0m      [\u001b[38;5;241m3\u001b[39m, \u001b[38;5;241m2\u001b[39m, \u001b[38;5;241m1\u001b[39m]]\n\u001b[1;32m---> 47\u001b[0m \u001b[38;5;28mprint\u001b[39m(\u001b[43mmatrix_multiply\u001b[49m\u001b[43m(\u001b[49m\u001b[43ma\u001b[49m\u001b[43m,\u001b[49m\u001b[43m \u001b[49m\u001b[43mb\u001b[49m\u001b[43m)\u001b[49m)\n",
      "Cell \u001b[1;32mIn[7], line 26\u001b[0m, in \u001b[0;36mmatrix_multiply\u001b[1;34m(a, b)\u001b[0m\n\u001b[0;32m     24\u001b[0m C11 \u001b[38;5;241m=\u001b[39m matrix_add(matrix_multiply(A11, B11), matrix_multiply(A12, B21))\n\u001b[0;32m     25\u001b[0m C12 \u001b[38;5;241m=\u001b[39m matrix_add(matrix_multiply(A11, B12), matrix_multiply(A12, B22))\n\u001b[1;32m---> 26\u001b[0m C21 \u001b[38;5;241m=\u001b[39m matrix_add(\u001b[43mmatrix_multiply\u001b[49m\u001b[43m(\u001b[49m\u001b[43mA21\u001b[49m\u001b[43m,\u001b[49m\u001b[43m \u001b[49m\u001b[43mB11\u001b[49m\u001b[43m)\u001b[49m, matrix_multiply(A22, B21))\n\u001b[0;32m     27\u001b[0m C22 \u001b[38;5;241m=\u001b[39m matrix_add(matrix_multiply(A21, B12), matrix_multiply(A22, B22))\n\u001b[0;32m     29\u001b[0m result \u001b[38;5;241m=\u001b[39m [[\u001b[38;5;241m0\u001b[39m] \u001b[38;5;241m*\u001b[39m \u001b[38;5;28mlen\u001b[39m(a) \u001b[38;5;28;01mfor\u001b[39;00m _ \u001b[38;5;129;01min\u001b[39;00m \u001b[38;5;28mrange\u001b[39m(\u001b[38;5;28mlen\u001b[39m(a))]\n",
      "Cell \u001b[1;32mIn[7], line 24\u001b[0m, in \u001b[0;36mmatrix_multiply\u001b[1;34m(a, b)\u001b[0m\n\u001b[0;32m     21\u001b[0m B21 \u001b[38;5;241m=\u001b[39m [row[:mid] \u001b[38;5;28;01mfor\u001b[39;00m row \u001b[38;5;129;01min\u001b[39;00m b[mid:]]\n\u001b[0;32m     22\u001b[0m B22 \u001b[38;5;241m=\u001b[39m [row[mid:] \u001b[38;5;28;01mfor\u001b[39;00m row \u001b[38;5;129;01min\u001b[39;00m b[mid:]]\n\u001b[1;32m---> 24\u001b[0m C11 \u001b[38;5;241m=\u001b[39m matrix_add(matrix_multiply(A11, B11), \u001b[43mmatrix_multiply\u001b[49m\u001b[43m(\u001b[49m\u001b[43mA12\u001b[49m\u001b[43m,\u001b[49m\u001b[43m \u001b[49m\u001b[43mB21\u001b[49m\u001b[43m)\u001b[49m)\n\u001b[0;32m     25\u001b[0m C12 \u001b[38;5;241m=\u001b[39m matrix_add(matrix_multiply(A11, B12), matrix_multiply(A12, B22))\n\u001b[0;32m     26\u001b[0m C21 \u001b[38;5;241m=\u001b[39m matrix_add(matrix_multiply(A21, B11), matrix_multiply(A22, B21))\n",
      "Cell \u001b[1;32mIn[7], line 12\u001b[0m, in \u001b[0;36mmatrix_multiply\u001b[1;34m(a, b)\u001b[0m\n\u001b[0;32m      9\u001b[0m mid \u001b[38;5;241m=\u001b[39m \u001b[38;5;28mlen\u001b[39m(a) \u001b[38;5;241m/\u001b[39m\u001b[38;5;241m/\u001b[39m \u001b[38;5;241m2\u001b[39m\n\u001b[0;32m     11\u001b[0m \u001b[38;5;28;01mif\u001b[39;00m \u001b[38;5;28mlen\u001b[39m(a) \u001b[38;5;241m==\u001b[39m \u001b[38;5;241m1\u001b[39m:\n\u001b[1;32m---> 12\u001b[0m     \u001b[38;5;28;01mreturn\u001b[39;00m [[\u001b[43ma\u001b[49m\u001b[43m[\u001b[49m\u001b[38;5;241;43m0\u001b[39;49m\u001b[43m]\u001b[49m\u001b[43m[\u001b[49m\u001b[38;5;241;43m0\u001b[39;49m\u001b[43m]\u001b[49m \u001b[38;5;241m*\u001b[39m b[\u001b[38;5;241m0\u001b[39m][\u001b[38;5;241m0\u001b[39m]]]\n\u001b[0;32m     14\u001b[0m A11 \u001b[38;5;241m=\u001b[39m [row[:mid] \u001b[38;5;28;01mfor\u001b[39;00m row \u001b[38;5;129;01min\u001b[39;00m a[:mid]]\n\u001b[0;32m     15\u001b[0m A12 \u001b[38;5;241m=\u001b[39m [row[mid:] \u001b[38;5;28;01mfor\u001b[39;00m row \u001b[38;5;129;01min\u001b[39;00m a[:mid]]\n",
      "\u001b[1;31mIndexError\u001b[0m: list index out of range"
     ]
    }
   ],
   "source": [
    "def matrix_add(a, b):\n",
    "    n = len(a)\n",
    "    return [[a[i][j] + b[i][j] for j in range(n)] for i in range(n)]\n",
    "\n",
    "def matrix_multiply(a, b):\n",
    "    mid = len(a) // 2\n",
    "    \n",
    "    if len(a) == 1:\n",
    "        return [[a[0][0] * b[0][0]]]\n",
    "    \n",
    "    A11 = [row[:mid] for row in a[:mid]]\n",
    "    A12 = [row[mid:] for row in a[:mid]]\n",
    "    A21 = [row[:mid] for row in a[mid:]]\n",
    "    A22 = [row[mid:] for row in a[mid:]]\n",
    "    \n",
    "    B11 = [row[:mid] for row in b[:mid]]\n",
    "    B12 = [row[mid:] for row in b[:mid]]\n",
    "    B21 = [row[:mid] for row in b[mid:]]\n",
    "    B22 = [row[mid:] for row in b[mid:]]\n",
    "\n",
    "    C11 = matrix_add(matrix_multiply(A11, B11), matrix_multiply(A12, B21))\n",
    "    C12 = matrix_add(matrix_multiply(A11, B12), matrix_multiply(A12, B22))\n",
    "    C21 = matrix_add(matrix_multiply(A21, B11), matrix_multiply(A22, B21))\n",
    "    C22 = matrix_add(matrix_multiply(A21, B12), matrix_multiply(A22, B22))\n",
    "\n",
    "    result = [[0] * len(a) for _ in range(len(a))]\n",
    "    for i in range(mid):\n",
    "        for j in range(mid):\n",
    "            result[i][j] = C11[i][j]\n",
    "            result[i][j + mid] = C12[i][j]\n",
    "            result[i + mid][j] = C21[i][j]\n",
    "            result[i + mid][j + mid] = C22[i][j]\n",
    "    \n",
    "    return result\n",
    "\n",
    "\n",
    "a = [[1, 2, 3],\n",
    "     [4, 5, 6],\n",
    "     [7, 8, 9]]\n",
    "\n",
    "b = [[9, 8, 7],\n",
    "     [6, 5, 4],\n",
    "     [3, 2, 1]]\n",
    "\n",
    "print(matrix_multiply(a, b))\n",
    "\n"
   ]
  },
  {
   "cell_type": "code",
   "execution_count": 12,
   "metadata": {},
   "outputs": [
    {
     "name": "stdout",
     "output_type": "stream",
     "text": [
      "[30, 24, 18]\n",
      "[84, 69, 54]\n",
      "[138, 114, 90]\n"
     ]
    }
   ],
   "source": [
    "def matrix_multiply(A, B):\n",
    "    if len(A[0]) != len(B):\n",
    "        raise ValueError(\"Number of columns in A must be equal to number of rows in B\")\n",
    "\n",
    "    result = [[0 for _ in range(len(B[0]))] for _ in range(len(A))]\n",
    "    \n",
    "    for i in range(len(A)):\n",
    "        for j in range(len(B[0])):\n",
    "            for k in range(len(B)):\n",
    "                result[i][j] += A[i][k] * B[k][j]\n",
    "    \n",
    "    return result\n",
    "\n",
    "# Example usage\n",
    "a = [[1, 2, 3],\n",
    "     [4, 5, 6],\n",
    "     [7, 8, 9]]\n",
    "\n",
    "b = [[9, 8, 7],\n",
    "     [6, 5, 4],\n",
    "     [3, 2, 1]]\n",
    "\n",
    "result = matrix_multiply(a, b)\n",
    "for row in result:\n",
    "    print(row)\n"
   ]
  },
  {
   "cell_type": "code",
   "execution_count": 20,
   "metadata": {},
   "outputs": [
    {
     "name": "stdout",
     "output_type": "stream",
     "text": [
      "[30, 24]\n",
      "[84, 0, 69, 54]\n",
      "[138, 0, 114, 90]\n"
     ]
    }
   ],
   "source": [
    "def matrix_multiply(A, B):\n",
    "    if len(A) == 1 and len(A[0]) == 1:\n",
    "        return [[A[0][0] * B[0][0]]]\n",
    "\n",
    "    # Check if matrices are not square and pad with zeros if necessary\n",
    "    n = max(len(A), len(A[0]), len(B), len(B[0]))\n",
    "    if len(A) != n:\n",
    "        A += [[0] * len(A[0]) for _ in range(n - len(A))]\n",
    "    if len(A[0]) != n:\n",
    "        for i in range(len(A)):\n",
    "            A[i] += [0] * (n - len(A[i]))\n",
    "    if len(B) != n:\n",
    "        B += [[0] * len(B[0]) for _ in range(n - len(B))]\n",
    "    if len(B[0]) != n:\n",
    "        for i in range(len(B)):\n",
    "            B[i] += [0] * (n - len(B[i]))\n",
    "\n",
    "    if n == 1:\n",
    "        return [[A[0][0] * B[0][0]]]\n",
    "\n",
    "    mid = n // 2\n",
    "\n",
    "    A11 = [row[:mid] for row in A[:mid]]\n",
    "    A12 = [row[mid:] for row in A[:mid]]\n",
    "    A21 = [row[:mid] for row in A[mid:]]\n",
    "    A22 = [row[mid:] for row in A[mid:]]\n",
    "\n",
    "    B11 = [row[:mid] for row in B[:mid]]\n",
    "    B12 = [row[mid:] for row in B[:mid]]\n",
    "    B21 = [row[:mid] for row in B[mid:]]\n",
    "    B22 = [row[mid:] for row in B[mid:]]\n",
    "\n",
    "    C11 = matrix_addition(matrix_multiply(A11, B11), matrix_multiply(A12, B21))\n",
    "    C12 = matrix_addition(matrix_multiply(A11, B12), matrix_multiply(A12, B22))\n",
    "    C21 = matrix_addition(matrix_multiply(A21, B11), matrix_multiply(A22, B21))\n",
    "    C22 = matrix_addition(matrix_multiply(A21, B12), matrix_multiply(A22, B22))\n",
    "\n",
    "    result = []\n",
    "    for i in range(n):\n",
    "        if i < mid:\n",
    "            result.append(C11[i] + C12[i])\n",
    "        else:\n",
    "            result.append(C21[i - mid] + C22[i - mid])\n",
    "\n",
    "    return result\n",
    "\n",
    "def matrix_addition(A, B):\n",
    "    return [[A[i][j] + B[i][j] for j in range(len(A))] for i in range(len(A))]\n",
    "\n",
    "# Example usage:\n",
    "A = [[1, 2, 3], \n",
    "     [4, 5, 6], \n",
    "     [7, 8, 9]]\n",
    "B = [[9, 8, 7], \n",
    "     [6, 5, 4], \n",
    "     [3, 2, 1]]\n",
    "\n",
    "result = matrix_multiply(A, B)\n",
    "for row in result:\n",
    "    print(row)\n"
   ]
  },
  {
   "cell_type": "code",
   "execution_count": 33,
   "metadata": {},
   "outputs": [
    {
     "name": "stdout",
     "output_type": "stream",
     "text": [
      "3\n"
     ]
    }
   ],
   "source": [
    "def save_the_prisoner(n, m, s):\n",
    "    remainder = m % n\n",
    "    \n",
    "    last_prisoner = (s - 1 + remainder) % n\n",
    "    \n",
    "    if last_prisoner == 0:\n",
    "        last_prisoner = n\n",
    "    \n",
    "    return last_prisoner\n",
    "\n",
    "\n",
    "n = 4\n",
    "m = 6  \n",
    "s = 2  \n",
    "print(save_the_prisoner(n, m, s))\n"
   ]
  },
  {
   "cell_type": "code",
   "execution_count": 47,
   "metadata": {},
   "outputs": [
    {
     "name": "stdout",
     "output_type": "stream",
     "text": [
      "2\n",
      "3\n",
      "1\n"
     ]
    }
   ],
   "source": [
    "def circular_array_rotation(r, lst):\n",
    "    length = len(lst)\n",
    "    r %= length\n",
    "    rotated_list = lst[length - r:] + lst[:length - r]\n",
    "    return rotated_list\n",
    "\n",
    "n, k, q = map(int, input().split())\n",
    "arr = list(map(int, input().split()))\n",
    "\n",
    "r = circular_array_rotation(k, arr)\n",
    "\n",
    "for i in range(q):\n",
    "    user = int(input())\n",
    "    print(r[user])"
   ]
  },
  {
   "cell_type": "code",
   "execution_count": 48,
   "metadata": {},
   "outputs": [
    {
     "ename": "ValueError",
     "evalue": "invalid literal for int() with base 10: ''",
     "output_type": "error",
     "traceback": [
      "\u001b[1;31m---------------------------------------------------------------------------\u001b[0m",
      "\u001b[1;31mValueError\u001b[0m                                Traceback (most recent call last)",
      "Cell \u001b[1;32mIn[48], line 15\u001b[0m\n\u001b[0;32m     11\u001b[0m                 \u001b[38;5;28mprint\u001b[39m()\n\u001b[0;32m     13\u001b[0m     \u001b[38;5;28;01mreturn\u001b[39;00m lst\n\u001b[1;32m---> 15\u001b[0m \u001b[38;5;28;01mfor\u001b[39;00m i \u001b[38;5;129;01min\u001b[39;00m \u001b[38;5;28mrange\u001b[39m(\u001b[38;5;28;43mint\u001b[39;49m\u001b[43m(\u001b[49m\u001b[38;5;28;43minput\u001b[39;49m\u001b[43m(\u001b[49m\u001b[43m)\u001b[49m\u001b[43m)\u001b[49m):\n\u001b[0;32m     16\u001b[0m     user \u001b[38;5;241m=\u001b[39m \u001b[38;5;28mint\u001b[39m(\u001b[38;5;28minput\u001b[39m())\n",
      "\u001b[1;31mValueError\u001b[0m: invalid literal for int() with base 10: ''"
     ]
    }
   ],
   "source": [
    "def bubble_sort(number):\n",
    "    number_length = len(number)\n",
    "    count = 0\n",
    "    for i in range(number_length - 1, 0, -1):\n",
    "        for j in range(i):\n",
    "            if number[j] > number[j + 1]:\n",
    "                number[j], number[j + 1] = number[j + 1], number[j]\n",
    "                count += 1\n",
    "                print(count, end = '. ')\n",
    "                print(' '.join([str(x) for x in number]))\n",
    "                print()\n",
    "                \n",
    "    return lst\n",
    "\n",
    "\n",
    "data = []\n",
    "for i in range(int(input())):\n",
    "    user = int(input())\n",
    "    data.append(user)\n",
    "\n",
    "sorted_data = bubble_sort(data)\n",
    "\n",
    "for num in sorted_data:\n",
    "    print(num)"
   ]
  },
  {
   "cell_type": "code",
   "execution_count": 4,
   "metadata": {},
   "outputs": [
    {
     "name": "stdout",
     "output_type": "stream",
     "text": [
      "[19, 22]\n",
      "[43, 50]\n"
     ]
    }
   ],
   "source": [
    "def divide_and_conquer_matrix_multiply(A, B):\n",
    "    n = len(A)\n",
    "    if n == 1:\n",
    "        return [[A[0][0] * B[0][0]]]\n",
    "\n",
    "    mid = n // 2\n",
    "    A11 = [row[:mid] for row in A[:mid]]\n",
    "    A12 = [row[mid:] for row in A[:mid]]\n",
    "    A21 = [row[:mid] for row in A[mid:]]\n",
    "    A22 = [row[mid:] for row in A[mid:]]\n",
    "    B11 = [row[:mid] for row in B[:mid]]\n",
    "    B12 = [row[mid:] for row in B[:mid]]\n",
    "    B21 = [row[:mid] for row in B[mid:]]\n",
    "    B22 = [row[mid:] for row in B[mid:]]\n",
    "\n",
    "    C11 = add_matrices(divide_and_conquer_matrix_multiply(A11, B11), divide_and_conquer_matrix_multiply(A12, B21))\n",
    "    C12 = add_matrices(divide_and_conquer_matrix_multiply(A11, B12), divide_and_conquer_matrix_multiply(A12, B22))\n",
    "    C21 = add_matrices(divide_and_conquer_matrix_multiply(A21, B11),  divide_and_conquer_matrix_multiply(A22, B21))\n",
    "    C22 = add_matrices(divide_and_conquer_matrix_multiply(A21, B12), divide_and_conquer_matrix_multiply(A22, B22))\n",
    "\n",
    "    C = [[0] * n for _ in range(n)]\n",
    "    for i in range(mid):\n",
    "        for j in range(mid):\n",
    "            C[i][j] = C11[i][j]\n",
    "            C[i][j + mid] = C12[i][j]\n",
    "            C[i + mid][j] = C21[i][j]\n",
    "            C[i + mid][j + mid] = C22[i][j]\n",
    "    return C\n",
    "\n",
    "def add_matrices(A, B):\n",
    "    return [[A[i][j] + B[i][j] for j in range(len(A[0]))] for i in range(len(A))]\n",
    "\n",
    "\n",
    "A = [[1, 2], [3, 4]]\n",
    "B = [[5, 6], [7, 8]]\n",
    "result = divide_and_conquer_matrix_multiply(A, B)\n",
    "for row in result:\n",
    "    print(row)\n"
   ]
  },
  {
   "cell_type": "code",
   "execution_count": 39,
   "metadata": {},
   "outputs": [
    {
     "name": "stdout",
     "output_type": "stream",
     "text": [
      "[19, 22]\n",
      "[43, 50]\n"
     ]
    }
   ],
   "source": [
    "def matrixMultiply(A, B):\n",
    "    n = len(A)\n",
    "    if n == 1:\n",
    "        return [[A[0][0] * B[0][0]]]\n",
    "\n",
    "    mid = n // 2\n",
    "    A11 = [row[:mid] for row in A[:mid]]\n",
    "    A12 = [row[mid:] for row in A[:mid]]\n",
    "    A21 = [row[:mid] for row in A[mid:]]\n",
    "    A22 = [row[mid:] for row in A[mid:]]\n",
    "    \n",
    "    B11 = [row[:mid] for row in B[:mid]]\n",
    "    B12 = [row[mid:] for row in B[:mid]]\n",
    "    B21 = [row[:mid] for row in B[mid:]]\n",
    "    B22 = [row[mid:] for row in B[mid:]]\n",
    "\n",
    "    C11 = add_matrices(matrixMultiply(A11, B11), matrixMultiply(A12, B21))\n",
    "    C12 = add_matrices(matrixMultiply(A11, B12), matrixMultiply(A12, B22))\n",
    "    C21 = add_matrices(matrixMultiply(A21, B11),  matrixMultiply(A22, B21))\n",
    "    C22 = add_matrices(matrixMultiply(A21, B12), matrixMultiply(A22, B22))\n",
    "\n",
    "    C = [[0] * n for _ in range(n)]\n",
    "    for i in range(mid):\n",
    "        for j in range(mid):\n",
    "            C[i][j] = C11[i][j]\n",
    "            C[i][j + mid] = C12[i][j]\n",
    "            C[i + mid][j] = C21[i][j]\n",
    "            C[i + mid][j + mid] = C22[i][j]\n",
    "    return C\n",
    "\n",
    "def add_matrices(A, B):\n",
    "    return [[A[i][j] + B[i][j] for j in range(len(A[0]))] for i in range(len(A))]\n",
    "\n",
    "\n",
    "matrix_a = [[1, 2], \n",
    "            [3, 4]]\n",
    "matrix_b = [[5, 6], \n",
    "            [7, 8]]\n",
    "\n",
    "matrix = matrixMultiply(matrix_a, matrix_b)\n",
    "\n",
    "for row in matrix:\n",
    "    print(row)\n"
   ]
  },
  {
   "cell_type": "code",
   "execution_count": 18,
   "metadata": {},
   "outputs": [
    {
     "name": "stdout",
     "output_type": "stream",
     "text": [
      "2\n",
      "0\n"
     ]
    }
   ],
   "source": [
    "def sherlockAndSquares(st, ed):\n",
    "    start_sqrt = int(st ** 0.5)\n",
    "    end_sqrt = int(ed ** 0.5)\n",
    "    \n",
    "    if start_sqrt ** 2 < st:\n",
    "        start_sqrt += 1\n",
    "    \n",
    "    return end_sqrt - start_sqrt + 1\n",
    "\n",
    "for _ in range(int(input())):\n",
    "    st, ed = map(int, input().split())\n",
    "    print(sherlockAndSquares(st, ed))\n"
   ]
  },
  {
   "cell_type": "code",
   "execution_count": 6,
   "metadata": {},
   "outputs": [
    {
     "name": "stdout",
     "output_type": "stream",
     "text": [
      "4\n",
      "4\n",
      "5\n",
      "8\n",
      "9\n",
      "45\n",
      "48\n",
      "48\n",
      "49\n",
      "54\n",
      "78\n",
      "84\n",
      "84\n",
      "84\n",
      "84\n",
      "94\n",
      "465\n",
      "498\n",
      "498\n",
      "849\n",
      "849\n",
      "949\n",
      "4987\n",
      "7489\n",
      "8979\n",
      "54894\n",
      "89489\n",
      "949849\n",
      "4895498\n"
     ]
    }
   ],
   "source": [
    "def merge_sort(arr):\n",
    "    if len(arr) > 1:\n",
    "        mid = len(arr) // 2\n",
    "        left_half = arr[:mid]\n",
    "        right_half = arr[mid:]\n",
    "\n",
    "        merge_sort(left_half)\n",
    "        merge_sort(right_half)\n",
    "\n",
    "        i = j = k = 0\n",
    "        while i < len(left_half) and j < len(right_half):\n",
    "            if left_half[i] < right_half[j]:\n",
    "                arr[k] = left_half[i]\n",
    "                i += 1\n",
    "            else:\n",
    "                arr[k] = right_half[j]\n",
    "                j += 1\n",
    "            k += 1\n",
    "\n",
    "\n",
    "        while i < len(left_half):\n",
    "            arr[k] = left_half[i]\n",
    "            i += 1\n",
    "            k += 1\n",
    "\n",
    "        while j < len(right_half):\n",
    "            arr[k] = right_half[j]\n",
    "            j += 1\n",
    "            k += 1\n",
    "\n",
    "    return arr\n",
    "\n",
    "data = []\n",
    "for i in range(int(input())):\n",
    "    user = int(input())\n",
    "    data.append(user)\n",
    "\n",
    "result = merge_sort(data)\n",
    "\n",
    "for val in result:\n",
    "    print(val)\n"
   ]
  },
  {
   "cell_type": "code",
   "execution_count": null,
   "metadata": {},
   "outputs": [],
   "source": [
    "def closestNumbers(arr):\n",
    "    arr.sort()  \n",
    "    min_diff = float('inf')  \n",
    "    pairs = []\n",
    "\n",
    "    for i in range(len(arr) - 1):\n",
    "        diff = arr[i+1] - arr[i]\n",
    "        if diff < min_diff:\n",
    "            min_diff = diff\n",
    "\n",
    "    for i in range(len(arr) - 1):\n",
    "        diff = arr[i+1] - arr[i]\n",
    "        if diff == min_diff:\n",
    "            pairs.append((arr[i], arr[i+1]))\n",
    "\n",
    "    return pairs  \n",
    "\n",
    "n = int(input().strip())\n",
    "arr = list(map(int, input().strip().split()))\n",
    "\n",
    "result = closestNumbers(arr)\n",
    "for pair in result:\n",
    "    print(pair[0], pair[1])\n"
   ]
  },
  {
   "cell_type": "code",
   "execution_count": null,
   "metadata": {},
   "outputs": [],
   "source": [
    "def closestNumbers(arr):\n",
    "    arr.sort()  \n",
    "    min_diff = float('inf')  \n",
    "    pairs = []\n",
    "\n",
    "    for i in range(len(arr) - 1):\n",
    "        diff = arr[i+1] - arr[i]\n",
    "        if diff < min_diff:\n",
    "            min_diff = diff\n",
    "\n",
    "    for i in range(len(arr) - 1):\n",
    "        diff = arr[i+1] - arr[i]\n",
    "        if diff == min_diff:\n",
    "            pairs.append((arr[i], arr[i+1]))\n",
    "\n",
    "    return pairs  \n",
    "\n",
    "n = int(input().strip())\n",
    "arr = list(map(int, input().strip().split()))\n",
    "\n",
    "result = closestNumbers(arr)\n",
    "for pair in result:\n",
    "    print(pair[0], pair[1])\n"
   ]
  },
  {
   "cell_type": "code",
   "execution_count": 3,
   "metadata": {},
   "outputs": [
    {
     "name": "stdout",
     "output_type": "stream",
     "text": [
      "[204, 205, 206]\n"
     ]
    }
   ],
   "source": [
    "def missingNumber(lst1, lst2):\n",
    "    missing_number = []\n",
    "\n",
    "    def countNumbers(lst):\n",
    "        number_count = {}\n",
    "        for num in lst:\n",
    "            if num in number_count:\n",
    "                number_count[num] += 1\n",
    "            else:\n",
    "                number_count[num] = 1\n",
    "        return number_count\n",
    "\n",
    "    number_count_1 = countNumbers(lst1)\n",
    "    number_count_2 = countNumbers(lst2)\n",
    "    \n",
    "    for num, count_1 in number_count_1.items():\n",
    "        if num not in number_count_2 or count_1 > number_count_2[num]:\n",
    "            for _ in range(count_1 - number_count_2.get(num, 0)):\n",
    "                missing_number.append(num)\n",
    "\n",
    "    return missing_number\n",
    "\n",
    "\n",
    "\n",
    "lst1 = list(map(int, input().split()))\n",
    "lst2 = list(map(int, input().split()))\n",
    "print(missingNumber(lst1, lst2))"
   ]
  },
  {
   "cell_type": "code",
   "execution_count": 2,
   "metadata": {},
   "outputs": [
    {
     "name": "stdout",
     "output_type": "stream",
     "text": [
      "1 4\n",
      "1 2\n"
     ]
    }
   ],
   "source": [
    "def iceCreamParlor(m, lst):\n",
    "    for i in range(len(lst)):\n",
    "        for j in range(i + 1, len(lst)):\n",
    "            if lst[i] + lst[j] == m:\n",
    "                return i + 1, j + 1\n",
    "\n",
    "for _ in range(int(input())):\n",
    "    k = int(input())\n",
    "    cost_size = int(input())\n",
    "    cost = list(map(int, input().split()))\n",
    "    a, b = iceCreamParlor(k, cost)\n",
    "    print(a, b)\n"
   ]
  },
  {
   "cell_type": "code",
   "execution_count": 11,
   "metadata": {},
   "outputs": [
    {
     "name": "stdout",
     "output_type": "stream",
     "text": [
      "YES\n",
      "YES\n"
     ]
    }
   ],
   "source": [
    "def left_and_right_sum(lst):\n",
    "    left_sum = sum(lst[:len(lst)//2])\n",
    "    right_sum = sum(lst[(len(lst)//2) + 1:])\n",
    "    if lst[0] == 1 or left_sum == right_sum:\n",
    "        print('YES')\n",
    "    else:\n",
    "        print('NO')\n",
    "\n",
    "# Input the number of test cases\n",
    "test_cases = int(input())\n",
    "for _ in range(test_cases):\n",
    "    n = int(input())\n",
    "    data = list(map(int, input().split()))\n",
    "    left_and_right_sum(data)\n"
   ]
  },
  {
   "cell_type": "code",
   "execution_count": 10,
   "metadata": {},
   "outputs": [
    {
     "name": "stdout",
     "output_type": "stream",
     "text": [
      "YES\n",
      "YES\n"
     ]
    }
   ],
   "source": [
    "def find_balance_point(arr):\n",
    "    total_sum = sum(arr)\n",
    "    left_sum = 0\n",
    "\n",
    "    for i, num in enumerate(arr):\n",
    "        if left_sum == total_sum - left_sum - num:\n",
    "            return \"YES\"\n",
    "        left_sum += num\n",
    "\n",
    "    return \"NO\"\n",
    "\n",
    "test_cases = int(input())\n",
    "for _ in range(test_cases):\n",
    "    n = int(input())\n",
    "    data = list(map(int, input().split()))\n",
    "    left_and_right_sum(data)\n"
   ]
  },
  {
   "cell_type": "code",
   "execution_count": 2,
   "metadata": {},
   "outputs": [
    {
     "ename": "IndexError",
     "evalue": "list index out of range",
     "output_type": "error",
     "traceback": [
      "\u001b[1;31m---------------------------------------------------------------------------\u001b[0m",
      "\u001b[1;31mIndexError\u001b[0m                                Traceback (most recent call last)",
      "Cell \u001b[1;32mIn[2], line 11\u001b[0m\n\u001b[0;32m      8\u001b[0m     \u001b[38;5;28;01mreturn\u001b[39;00m left_sum, right_sum\n\u001b[0;32m     10\u001b[0m a \u001b[38;5;241m=\u001b[39m [\u001b[38;5;241m5\u001b[39m, \u001b[38;5;241m6\u001b[39m, \u001b[38;5;241m8\u001b[39m, \u001b[38;5;241m1\u001b[39m]\n\u001b[1;32m---> 11\u001b[0m \u001b[38;5;28mprint\u001b[39m(\u001b[43mleftAndRight\u001b[49m\u001b[43m(\u001b[49m\u001b[43ma\u001b[49m\u001b[43m)\u001b[49m)\n",
      "Cell \u001b[1;32mIn[2], line 6\u001b[0m, in \u001b[0;36mleftAndRight\u001b[1;34m(lst)\u001b[0m\n\u001b[0;32m      4\u001b[0m \u001b[38;5;28;01mfor\u001b[39;00m i \u001b[38;5;129;01min\u001b[39;00m \u001b[38;5;28mrange\u001b[39m(\u001b[38;5;28mlen\u001b[39m(lst) \u001b[38;5;241m/\u001b[39m\u001b[38;5;241m/\u001b[39m \u001b[38;5;241m2\u001b[39m):\n\u001b[0;32m      5\u001b[0m         left_sum \u001b[38;5;241m+\u001b[39m\u001b[38;5;241m=\u001b[39m lst[i]\n\u001b[1;32m----> 6\u001b[0m         right_sum \u001b[38;5;241m+\u001b[39m\u001b[38;5;241m=\u001b[39m \u001b[43mlst\u001b[49m\u001b[43m[\u001b[49m\u001b[38;5;28;43mlen\u001b[39;49m\u001b[43m(\u001b[49m\u001b[43mlst\u001b[49m\u001b[43m)\u001b[49m\u001b[43m \u001b[49m\u001b[38;5;241;43m-\u001b[39;49m\u001b[43m \u001b[49m\u001b[43mi\u001b[49m\u001b[43m]\u001b[49m\n\u001b[0;32m      8\u001b[0m \u001b[38;5;28;01mreturn\u001b[39;00m left_sum, right_sum\n",
      "\u001b[1;31mIndexError\u001b[0m: list index out of range"
     ]
    }
   ],
   "source": [
    "def leftAndRight(lst):\n",
    "    left_sum = 0\n",
    "    right_sum = 0\n",
    "    for i in range(len(lst) // 2):\n",
    "            left_sum += lst[i]\n",
    "            right_sum += lst[len(lst) - i]\n",
    "    \n",
    "    return left_sum, right_sum\n",
    "\n",
    "a = [5, 6, 8, 1]\n",
    "print(leftAndRight(a))"
   ]
  },
  {
   "cell_type": "code",
   "execution_count": 11,
   "metadata": {},
   "outputs": [
    {
     "ename": "ValueError",
     "evalue": "invalid literal for int() with base 10: ''",
     "output_type": "error",
     "traceback": [
      "\u001b[1;31m---------------------------------------------------------------------------\u001b[0m",
      "\u001b[1;31mValueError\u001b[0m                                Traceback (most recent call last)",
      "Cell \u001b[1;32mIn[11], line 5\u001b[0m\n\u001b[0;32m      3\u001b[0m \u001b[38;5;28;01mfor\u001b[39;00m i \u001b[38;5;129;01min\u001b[39;00m \u001b[38;5;28mrange\u001b[39m(\u001b[38;5;28mint\u001b[39m(\u001b[38;5;28minput\u001b[39m())):\n\u001b[0;32m      4\u001b[0m     data \u001b[38;5;241m=\u001b[39m \u001b[38;5;28minput\u001b[39m()\n\u001b[1;32m----> 5\u001b[0m     numberdict[\u001b[38;5;28;43mint\u001b[39;49m\u001b[43m(\u001b[49m\u001b[43mdata\u001b[49m\u001b[43m)\u001b[49m] \u001b[38;5;241m=\u001b[39m \u001b[38;5;28mlen\u001b[39m(data)\n\u001b[0;32m      6\u001b[0m     number_data\u001b[38;5;241m.\u001b[39mappend(\u001b[38;5;28mint\u001b[39m(data))\n\u001b[0;32m      8\u001b[0m compare \u001b[38;5;241m=\u001b[39m numberdict[number_data[\u001b[38;5;241m0\u001b[39m]]\n",
      "\u001b[1;31mValueError\u001b[0m: invalid literal for int() with base 10: ''"
     ]
    }
   ],
   "source": [
    "numberdict = {}\n",
    "number_data = []\n",
    "for i in range(int(input())):\n",
    "    data = input()\n",
    "    numberdict[int(data)] = len(data)\n",
    "    number_data.append(int(data))\n",
    "\n",
    "compare = numberdict[number_data[0]]\n",
    "sorted_data = []\n",
    "for number, length in numberdict.items():\n",
    "    if compare> length:\n",
    "        sorted_data.append(number)\n",
    "    \n",
    "\n"
   ]
  },
  {
   "cell_type": "code",
   "execution_count": 1,
   "metadata": {},
   "outputs": [
    {
     "name": "stdout",
     "output_type": "stream",
     "text": [
      "5\n"
     ]
    }
   ],
   "source": [
    "def beautifulPairs(arr1, arr2):\n",
    "    result = []\n",
    "    counted_numbers = []\n",
    "    for i in range(len(arr1)):\n",
    "        for j in range(len(arr2)):\n",
    "            if arr1[i] == arr2[j] and (arr1[i] not in counted_numbers):\n",
    "                counted_numbers.append(arr1[i])\n",
    "                result.append([i, j])\n",
    "    \n",
    "    return len (result)\n",
    "\n",
    "arr1 = list(map(int, input().split()))\n",
    "arr2 = list(map(int, input().split()))\n",
    "print(beautifulPairs(arr1, arr2))"
   ]
  },
  {
   "cell_type": "code",
   "execution_count": 1,
   "metadata": {},
   "outputs": [
    {
     "name": "stdout",
     "output_type": "stream",
     "text": [
      "8\n"
     ]
    }
   ],
   "source": [
    "def diagonalDifference(lst):\n",
    "    sum_left = lst[0][0]\n",
    "    for i in range(1, len(lst)):\n",
    "        sum_left += lst[i][i]\n",
    "    \n",
    "    sum_right = lst[0][-1]\n",
    "    for i in range(1, len(lst)):\n",
    "        sum_right += lst[i][-i - 1]\n",
    "    \n",
    "    return abs(sum_left - sum_right)\n",
    "\n",
    "n = int(input())\n",
    "matrix = []\n",
    "for i in range(n):\n",
    "    user_input = input().split()\n",
    "    user_input = list(map(int, user_input))\n",
    "    matrix.append(user_input)\n",
    "    \n",
    "print(diagonalDifference(matrix))\n"
   ]
  },
  {
   "cell_type": "code",
   "execution_count": null,
   "metadata": {},
   "outputs": [],
   "source": []
  }
 ],
 "metadata": {
  "kernelspec": {
   "display_name": "Python 3",
   "language": "python",
   "name": "python3"
  },
  "language_info": {
   "codemirror_mode": {
    "name": "ipython",
    "version": 3
   },
   "file_extension": ".py",
   "mimetype": "text/x-python",
   "name": "python",
   "nbconvert_exporter": "python",
   "pygments_lexer": "ipython3",
   "version": "3.11.1"
  }
 },
 "nbformat": 4,
 "nbformat_minor": 2
}
